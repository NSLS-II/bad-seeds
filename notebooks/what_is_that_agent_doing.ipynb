{
 "cells": [
  {
   "cell_type": "code",
   "execution_count": null,
   "metadata": {},
   "outputs": [],
   "source": [
    "from bad_seeds.simple.bad_seeds_04 import BadSeeds04"
   ]
  },
  {
   "cell_type": "code",
   "execution_count": null,
   "metadata": {},
   "outputs": [],
   "source": [
    "import tensorforce\n",
    "from tensorforce.agents import Agent\n",
    "from tensorforce.environments import Environment"
   ]
  },
  {
   "cell_type": "code",
   "execution_count": null,
   "metadata": {},
   "outputs": [],
   "source": [
    "tensorforce.__version__"
   ]
  },
  {
   "cell_type": "code",
   "execution_count": null,
   "metadata": {},
   "outputs": [],
   "source": [
    "environment = Environment.create(\n",
    "    environment=BadSeeds04, seed_count=10, bad_seed_count=3, max_episode_length=100\n",
    ")"
   ]
  },
  {
   "cell_type": "code",
   "execution_count": null,
   "metadata": {},
   "outputs": [],
   "source": [
    "agent = Agent.load(\n",
    "    directory=\"../saved_models/agent_ppo_01_env_bollux_bs10_l2r0.01/checkpoints/\",\n",
    "    format=\"checkpoint\",\n",
    "    environment=environment\n",
    ")"
   ]
  },
  {
   "cell_type": "code",
   "execution_count": null,
   "metadata": {},
   "outputs": [],
   "source": [
    "sum_rewards = 0.0\n",
    "for _ in range(100):\n",
    "    states = environment.reset()\n",
    "    internals = agent.initial_internals()\n",
    "    terminal = False\n",
    "    while not terminal:\n",
    "        actions, internals = agent.act(\n",
    "            states=states, internals=internals,\n",
    "            deterministic=True, independent=True\n",
    "        )\n",
    "        states, terminal, reward = environment.execute(actions=actions)\n",
    "        sum_rewards += reward\n",
    "\n",
    "print('Mean episode reward:', sum_rewards / 100)\n",
    "\n",
    "# Close agent and environment\n",
    "agent.close()\n",
    "environment.close()\n"
   ]
  }
 ],
 "metadata": {
  "kernelspec": {
   "display_name": "Python 3",
   "language": "python",
   "name": "python3"
  },
  "language_info": {
   "codemirror_mode": {
    "name": "ipython",
    "version": 3
   },
   "file_extension": ".py",
   "mimetype": "text/x-python",
   "name": "python",
   "nbconvert_exporter": "python",
   "pygments_lexer": "ipython3",
   "version": "3.8.2"
  }
 },
 "nbformat": 4,
 "nbformat_minor": 4
}